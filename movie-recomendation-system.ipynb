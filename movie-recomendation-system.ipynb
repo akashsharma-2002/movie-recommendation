{
 "cells": [
  {
   "cell_type": "code",
   "execution_count": 1,
   "id": "b397accf",
   "metadata": {
    "_cell_guid": "b1076dfc-b9ad-4769-8c92-a6c4dae69d19",
    "_uuid": "8f2839f25d086af736a60e9eeb907d3b93b6e0e5",
    "execution": {
     "iopub.execute_input": "2023-04-17T05:09:12.227324Z",
     "iopub.status.busy": "2023-04-17T05:09:12.226450Z",
     "iopub.status.idle": "2023-04-17T05:09:12.252659Z",
     "shell.execute_reply": "2023-04-17T05:09:12.251743Z"
    },
    "papermill": {
     "duration": 0.045097,
     "end_time": "2023-04-17T05:09:12.255380",
     "exception": false,
     "start_time": "2023-04-17T05:09:12.210283",
     "status": "completed"
    },
    "tags": []
   },
   "outputs": [
    {
     "name": "stdout",
     "output_type": "stream",
     "text": [
      "/kaggle/input/tmdb-movie-metadata/tmdb_5000_movies.csv\n",
      "/kaggle/input/tmdb-movie-metadata/tmdb_5000_credits.csv\n"
     ]
    }
   ],
   "source": [
    "import numpy as np # linear algebra\n",
    "import pandas as pd # data processing, CSV file I/O (e.g. pd.read_csv)\n",
    "\n",
    "# Input data files are available in the read-only \"../input/\" directory\n",
    "# For example, running this (by clicking run or pressing Shift+Enter) will list all files under the input directory\n",
    "\n",
    "import os\n",
    "for dirname, _, filenames in os.walk('/kaggle/input'):\n",
    "    for filename in filenames:\n",
    "        print(os.path.join(dirname, filename))\n"
   ]
  },
  {
   "cell_type": "code",
   "execution_count": 2,
   "id": "784e5db2",
   "metadata": {
    "execution": {
     "iopub.execute_input": "2023-04-17T05:09:12.275041Z",
     "iopub.status.busy": "2023-04-17T05:09:12.274565Z",
     "iopub.status.idle": "2023-04-17T05:09:13.293590Z",
     "shell.execute_reply": "2023-04-17T05:09:13.292447Z"
    },
    "papermill": {
     "duration": 1.032325,
     "end_time": "2023-04-17T05:09:13.296765",
     "exception": false,
     "start_time": "2023-04-17T05:09:12.264440",
     "status": "completed"
    },
    "tags": []
   },
   "outputs": [],
   "source": [
    "\n",
    "movies = pd.read_csv('/kaggle/input/tmdb-movie-metadata/tmdb_5000_movies.csv')\n",
    "credits = pd.read_csv('/kaggle/input/tmdb-movie-metadata/tmdb_5000_credits.csv') "
   ]
  },
  {
   "cell_type": "code",
   "execution_count": 3,
   "id": "bd539840",
   "metadata": {
    "execution": {
     "iopub.execute_input": "2023-04-17T05:09:13.316577Z",
     "iopub.status.busy": "2023-04-17T05:09:13.315541Z",
     "iopub.status.idle": "2023-04-17T05:09:13.325298Z",
     "shell.execute_reply": "2023-04-17T05:09:13.324125Z"
    },
    "papermill": {
     "duration": 0.022713,
     "end_time": "2023-04-17T05:09:13.328216",
     "exception": false,
     "start_time": "2023-04-17T05:09:13.305503",
     "status": "completed"
    },
    "tags": []
   },
   "outputs": [
    {
     "data": {
      "text/plain": [
       "(4803, 20)"
      ]
     },
     "execution_count": 3,
     "metadata": {},
     "output_type": "execute_result"
    }
   ],
   "source": [
    "movies.shape"
   ]
  },
  {
   "cell_type": "code",
   "execution_count": 4,
   "id": "f17bb8f0",
   "metadata": {
    "execution": {
     "iopub.execute_input": "2023-04-17T05:09:13.347585Z",
     "iopub.status.busy": "2023-04-17T05:09:13.347161Z",
     "iopub.status.idle": "2023-04-17T05:09:13.388671Z",
     "shell.execute_reply": "2023-04-17T05:09:13.387370Z"
    },
    "papermill": {
     "duration": 0.054422,
     "end_time": "2023-04-17T05:09:13.391607",
     "exception": false,
     "start_time": "2023-04-17T05:09:13.337185",
     "status": "completed"
    },
    "tags": []
   },
   "outputs": [],
   "source": [
    "movies = movies.merge(credits,on='title')"
   ]
  },
  {
   "cell_type": "code",
   "execution_count": 5,
   "id": "119263ae",
   "metadata": {
    "execution": {
     "iopub.execute_input": "2023-04-17T05:09:13.411375Z",
     "iopub.status.busy": "2023-04-17T05:09:13.410349Z",
     "iopub.status.idle": "2023-04-17T05:09:13.421575Z",
     "shell.execute_reply": "2023-04-17T05:09:13.420475Z"
    },
    "papermill": {
     "duration": 0.023877,
     "end_time": "2023-04-17T05:09:13.424279",
     "exception": false,
     "start_time": "2023-04-17T05:09:13.400402",
     "status": "completed"
    },
    "tags": []
   },
   "outputs": [],
   "source": [
    "movies = movies[['movie_id','title','overview','genres','keywords','cast','crew']]"
   ]
  },
  {
   "cell_type": "code",
   "execution_count": 6,
   "id": "e876a28d",
   "metadata": {
    "execution": {
     "iopub.execute_input": "2023-04-17T05:09:13.443857Z",
     "iopub.status.busy": "2023-04-17T05:09:13.443032Z",
     "iopub.status.idle": "2023-04-17T05:09:13.468286Z",
     "shell.execute_reply": "2023-04-17T05:09:13.466926Z"
    },
    "papermill": {
     "duration": 0.037971,
     "end_time": "2023-04-17T05:09:13.471071",
     "exception": false,
     "start_time": "2023-04-17T05:09:13.433100",
     "status": "completed"
    },
    "tags": []
   },
   "outputs": [
    {
     "data": {
      "text/html": [
       "<div>\n",
       "<style scoped>\n",
       "    .dataframe tbody tr th:only-of-type {\n",
       "        vertical-align: middle;\n",
       "    }\n",
       "\n",
       "    .dataframe tbody tr th {\n",
       "        vertical-align: top;\n",
       "    }\n",
       "\n",
       "    .dataframe thead th {\n",
       "        text-align: right;\n",
       "    }\n",
       "</style>\n",
       "<table border=\"1\" class=\"dataframe\">\n",
       "  <thead>\n",
       "    <tr style=\"text-align: right;\">\n",
       "      <th></th>\n",
       "      <th>movie_id</th>\n",
       "      <th>title</th>\n",
       "      <th>overview</th>\n",
       "      <th>genres</th>\n",
       "      <th>keywords</th>\n",
       "      <th>cast</th>\n",
       "      <th>crew</th>\n",
       "    </tr>\n",
       "  </thead>\n",
       "  <tbody>\n",
       "    <tr>\n",
       "      <th>0</th>\n",
       "      <td>19995</td>\n",
       "      <td>Avatar</td>\n",
       "      <td>In the 22nd century, a paraplegic Marine is di...</td>\n",
       "      <td>[{\"id\": 28, \"name\": \"Action\"}, {\"id\": 12, \"nam...</td>\n",
       "      <td>[{\"id\": 1463, \"name\": \"culture clash\"}, {\"id\":...</td>\n",
       "      <td>[{\"cast_id\": 242, \"character\": \"Jake Sully\", \"...</td>\n",
       "      <td>[{\"credit_id\": \"52fe48009251416c750aca23\", \"de...</td>\n",
       "    </tr>\n",
       "    <tr>\n",
       "      <th>1</th>\n",
       "      <td>285</td>\n",
       "      <td>Pirates of the Caribbean: At World's End</td>\n",
       "      <td>Captain Barbossa, long believed to be dead, ha...</td>\n",
       "      <td>[{\"id\": 12, \"name\": \"Adventure\"}, {\"id\": 14, \"...</td>\n",
       "      <td>[{\"id\": 270, \"name\": \"ocean\"}, {\"id\": 726, \"na...</td>\n",
       "      <td>[{\"cast_id\": 4, \"character\": \"Captain Jack Spa...</td>\n",
       "      <td>[{\"credit_id\": \"52fe4232c3a36847f800b579\", \"de...</td>\n",
       "    </tr>\n",
       "    <tr>\n",
       "      <th>2</th>\n",
       "      <td>206647</td>\n",
       "      <td>Spectre</td>\n",
       "      <td>A cryptic message from Bond’s past sends him o...</td>\n",
       "      <td>[{\"id\": 28, \"name\": \"Action\"}, {\"id\": 12, \"nam...</td>\n",
       "      <td>[{\"id\": 470, \"name\": \"spy\"}, {\"id\": 818, \"name...</td>\n",
       "      <td>[{\"cast_id\": 1, \"character\": \"James Bond\", \"cr...</td>\n",
       "      <td>[{\"credit_id\": \"54805967c3a36829b5002c41\", \"de...</td>\n",
       "    </tr>\n",
       "    <tr>\n",
       "      <th>3</th>\n",
       "      <td>49026</td>\n",
       "      <td>The Dark Knight Rises</td>\n",
       "      <td>Following the death of District Attorney Harve...</td>\n",
       "      <td>[{\"id\": 28, \"name\": \"Action\"}, {\"id\": 80, \"nam...</td>\n",
       "      <td>[{\"id\": 849, \"name\": \"dc comics\"}, {\"id\": 853,...</td>\n",
       "      <td>[{\"cast_id\": 2, \"character\": \"Bruce Wayne / Ba...</td>\n",
       "      <td>[{\"credit_id\": \"52fe4781c3a36847f81398c3\", \"de...</td>\n",
       "    </tr>\n",
       "    <tr>\n",
       "      <th>4</th>\n",
       "      <td>49529</td>\n",
       "      <td>John Carter</td>\n",
       "      <td>John Carter is a war-weary, former military ca...</td>\n",
       "      <td>[{\"id\": 28, \"name\": \"Action\"}, {\"id\": 12, \"nam...</td>\n",
       "      <td>[{\"id\": 818, \"name\": \"based on novel\"}, {\"id\":...</td>\n",
       "      <td>[{\"cast_id\": 5, \"character\": \"John Carter\", \"c...</td>\n",
       "      <td>[{\"credit_id\": \"52fe479ac3a36847f813eaa3\", \"de...</td>\n",
       "    </tr>\n",
       "  </tbody>\n",
       "</table>\n",
       "</div>"
      ],
      "text/plain": [
       "   movie_id                                     title  \\\n",
       "0     19995                                    Avatar   \n",
       "1       285  Pirates of the Caribbean: At World's End   \n",
       "2    206647                                   Spectre   \n",
       "3     49026                     The Dark Knight Rises   \n",
       "4     49529                               John Carter   \n",
       "\n",
       "                                            overview  \\\n",
       "0  In the 22nd century, a paraplegic Marine is di...   \n",
       "1  Captain Barbossa, long believed to be dead, ha...   \n",
       "2  A cryptic message from Bond’s past sends him o...   \n",
       "3  Following the death of District Attorney Harve...   \n",
       "4  John Carter is a war-weary, former military ca...   \n",
       "\n",
       "                                              genres  \\\n",
       "0  [{\"id\": 28, \"name\": \"Action\"}, {\"id\": 12, \"nam...   \n",
       "1  [{\"id\": 12, \"name\": \"Adventure\"}, {\"id\": 14, \"...   \n",
       "2  [{\"id\": 28, \"name\": \"Action\"}, {\"id\": 12, \"nam...   \n",
       "3  [{\"id\": 28, \"name\": \"Action\"}, {\"id\": 80, \"nam...   \n",
       "4  [{\"id\": 28, \"name\": \"Action\"}, {\"id\": 12, \"nam...   \n",
       "\n",
       "                                            keywords  \\\n",
       "0  [{\"id\": 1463, \"name\": \"culture clash\"}, {\"id\":...   \n",
       "1  [{\"id\": 270, \"name\": \"ocean\"}, {\"id\": 726, \"na...   \n",
       "2  [{\"id\": 470, \"name\": \"spy\"}, {\"id\": 818, \"name...   \n",
       "3  [{\"id\": 849, \"name\": \"dc comics\"}, {\"id\": 853,...   \n",
       "4  [{\"id\": 818, \"name\": \"based on novel\"}, {\"id\":...   \n",
       "\n",
       "                                                cast  \\\n",
       "0  [{\"cast_id\": 242, \"character\": \"Jake Sully\", \"...   \n",
       "1  [{\"cast_id\": 4, \"character\": \"Captain Jack Spa...   \n",
       "2  [{\"cast_id\": 1, \"character\": \"James Bond\", \"cr...   \n",
       "3  [{\"cast_id\": 2, \"character\": \"Bruce Wayne / Ba...   \n",
       "4  [{\"cast_id\": 5, \"character\": \"John Carter\", \"c...   \n",
       "\n",
       "                                                crew  \n",
       "0  [{\"credit_id\": \"52fe48009251416c750aca23\", \"de...  \n",
       "1  [{\"credit_id\": \"52fe4232c3a36847f800b579\", \"de...  \n",
       "2  [{\"credit_id\": \"54805967c3a36829b5002c41\", \"de...  \n",
       "3  [{\"credit_id\": \"52fe4781c3a36847f81398c3\", \"de...  \n",
       "4  [{\"credit_id\": \"52fe479ac3a36847f813eaa3\", \"de...  "
      ]
     },
     "execution_count": 6,
     "metadata": {},
     "output_type": "execute_result"
    }
   ],
   "source": [
    "movies.head()"
   ]
  },
  {
   "cell_type": "code",
   "execution_count": 7,
   "id": "c1ec982e",
   "metadata": {
    "execution": {
     "iopub.execute_input": "2023-04-17T05:09:13.491621Z",
     "iopub.status.busy": "2023-04-17T05:09:13.490842Z",
     "iopub.status.idle": "2023-04-17T05:09:13.496135Z",
     "shell.execute_reply": "2023-04-17T05:09:13.494986Z"
    },
    "papermill": {
     "duration": 0.017918,
     "end_time": "2023-04-17T05:09:13.498561",
     "exception": false,
     "start_time": "2023-04-17T05:09:13.480643",
     "status": "completed"
    },
    "tags": []
   },
   "outputs": [],
   "source": [
    "import ast"
   ]
  },
  {
   "cell_type": "code",
   "execution_count": 8,
   "id": "6a89f48c",
   "metadata": {
    "execution": {
     "iopub.execute_input": "2023-04-17T05:09:13.519186Z",
     "iopub.status.busy": "2023-04-17T05:09:13.518777Z",
     "iopub.status.idle": "2023-04-17T05:09:13.524737Z",
     "shell.execute_reply": "2023-04-17T05:09:13.523512Z"
    },
    "papermill": {
     "duration": 0.018846,
     "end_time": "2023-04-17T05:09:13.527352",
     "exception": false,
     "start_time": "2023-04-17T05:09:13.508506",
     "status": "completed"
    },
    "tags": []
   },
   "outputs": [],
   "source": [
    "def convert(text):\n",
    "    L = []\n",
    "    for i in ast.literal_eval(text):\n",
    "        L.append(i['name']) \n",
    "    return L "
   ]
  },
  {
   "cell_type": "code",
   "execution_count": 9,
   "id": "017b179a",
   "metadata": {
    "execution": {
     "iopub.execute_input": "2023-04-17T05:09:13.547291Z",
     "iopub.status.busy": "2023-04-17T05:09:13.546505Z",
     "iopub.status.idle": "2023-04-17T05:09:13.558461Z",
     "shell.execute_reply": "2023-04-17T05:09:13.557328Z"
    },
    "papermill": {
     "duration": 0.024518,
     "end_time": "2023-04-17T05:09:13.560846",
     "exception": false,
     "start_time": "2023-04-17T05:09:13.536328",
     "status": "completed"
    },
    "tags": []
   },
   "outputs": [],
   "source": [
    "movies.dropna(inplace=True)"
   ]
  },
  {
   "cell_type": "code",
   "execution_count": 10,
   "id": "6350601e",
   "metadata": {
    "execution": {
     "iopub.execute_input": "2023-04-17T05:09:13.580853Z",
     "iopub.status.busy": "2023-04-17T05:09:13.579922Z",
     "iopub.status.idle": "2023-04-17T05:09:13.749880Z",
     "shell.execute_reply": "2023-04-17T05:09:13.749028Z"
    },
    "papermill": {
     "duration": 0.182811,
     "end_time": "2023-04-17T05:09:13.752578",
     "exception": false,
     "start_time": "2023-04-17T05:09:13.569767",
     "status": "completed"
    },
    "tags": []
   },
   "outputs": [
    {
     "data": {
      "text/html": [
       "<div>\n",
       "<style scoped>\n",
       "    .dataframe tbody tr th:only-of-type {\n",
       "        vertical-align: middle;\n",
       "    }\n",
       "\n",
       "    .dataframe tbody tr th {\n",
       "        vertical-align: top;\n",
       "    }\n",
       "\n",
       "    .dataframe thead th {\n",
       "        text-align: right;\n",
       "    }\n",
       "</style>\n",
       "<table border=\"1\" class=\"dataframe\">\n",
       "  <thead>\n",
       "    <tr style=\"text-align: right;\">\n",
       "      <th></th>\n",
       "      <th>movie_id</th>\n",
       "      <th>title</th>\n",
       "      <th>overview</th>\n",
       "      <th>genres</th>\n",
       "      <th>keywords</th>\n",
       "      <th>cast</th>\n",
       "      <th>crew</th>\n",
       "    </tr>\n",
       "  </thead>\n",
       "  <tbody>\n",
       "    <tr>\n",
       "      <th>0</th>\n",
       "      <td>19995</td>\n",
       "      <td>Avatar</td>\n",
       "      <td>In the 22nd century, a paraplegic Marine is di...</td>\n",
       "      <td>[Action, Adventure, Fantasy, Science Fiction]</td>\n",
       "      <td>[{\"id\": 1463, \"name\": \"culture clash\"}, {\"id\":...</td>\n",
       "      <td>[{\"cast_id\": 242, \"character\": \"Jake Sully\", \"...</td>\n",
       "      <td>[{\"credit_id\": \"52fe48009251416c750aca23\", \"de...</td>\n",
       "    </tr>\n",
       "    <tr>\n",
       "      <th>1</th>\n",
       "      <td>285</td>\n",
       "      <td>Pirates of the Caribbean: At World's End</td>\n",
       "      <td>Captain Barbossa, long believed to be dead, ha...</td>\n",
       "      <td>[Adventure, Fantasy, Action]</td>\n",
       "      <td>[{\"id\": 270, \"name\": \"ocean\"}, {\"id\": 726, \"na...</td>\n",
       "      <td>[{\"cast_id\": 4, \"character\": \"Captain Jack Spa...</td>\n",
       "      <td>[{\"credit_id\": \"52fe4232c3a36847f800b579\", \"de...</td>\n",
       "    </tr>\n",
       "    <tr>\n",
       "      <th>2</th>\n",
       "      <td>206647</td>\n",
       "      <td>Spectre</td>\n",
       "      <td>A cryptic message from Bond’s past sends him o...</td>\n",
       "      <td>[Action, Adventure, Crime]</td>\n",
       "      <td>[{\"id\": 470, \"name\": \"spy\"}, {\"id\": 818, \"name...</td>\n",
       "      <td>[{\"cast_id\": 1, \"character\": \"James Bond\", \"cr...</td>\n",
       "      <td>[{\"credit_id\": \"54805967c3a36829b5002c41\", \"de...</td>\n",
       "    </tr>\n",
       "    <tr>\n",
       "      <th>3</th>\n",
       "      <td>49026</td>\n",
       "      <td>The Dark Knight Rises</td>\n",
       "      <td>Following the death of District Attorney Harve...</td>\n",
       "      <td>[Action, Crime, Drama, Thriller]</td>\n",
       "      <td>[{\"id\": 849, \"name\": \"dc comics\"}, {\"id\": 853,...</td>\n",
       "      <td>[{\"cast_id\": 2, \"character\": \"Bruce Wayne / Ba...</td>\n",
       "      <td>[{\"credit_id\": \"52fe4781c3a36847f81398c3\", \"de...</td>\n",
       "    </tr>\n",
       "    <tr>\n",
       "      <th>4</th>\n",
       "      <td>49529</td>\n",
       "      <td>John Carter</td>\n",
       "      <td>John Carter is a war-weary, former military ca...</td>\n",
       "      <td>[Action, Adventure, Science Fiction]</td>\n",
       "      <td>[{\"id\": 818, \"name\": \"based on novel\"}, {\"id\":...</td>\n",
       "      <td>[{\"cast_id\": 5, \"character\": \"John Carter\", \"c...</td>\n",
       "      <td>[{\"credit_id\": \"52fe479ac3a36847f813eaa3\", \"de...</td>\n",
       "    </tr>\n",
       "  </tbody>\n",
       "</table>\n",
       "</div>"
      ],
      "text/plain": [
       "   movie_id                                     title  \\\n",
       "0     19995                                    Avatar   \n",
       "1       285  Pirates of the Caribbean: At World's End   \n",
       "2    206647                                   Spectre   \n",
       "3     49026                     The Dark Knight Rises   \n",
       "4     49529                               John Carter   \n",
       "\n",
       "                                            overview  \\\n",
       "0  In the 22nd century, a paraplegic Marine is di...   \n",
       "1  Captain Barbossa, long believed to be dead, ha...   \n",
       "2  A cryptic message from Bond’s past sends him o...   \n",
       "3  Following the death of District Attorney Harve...   \n",
       "4  John Carter is a war-weary, former military ca...   \n",
       "\n",
       "                                          genres  \\\n",
       "0  [Action, Adventure, Fantasy, Science Fiction]   \n",
       "1                   [Adventure, Fantasy, Action]   \n",
       "2                     [Action, Adventure, Crime]   \n",
       "3               [Action, Crime, Drama, Thriller]   \n",
       "4           [Action, Adventure, Science Fiction]   \n",
       "\n",
       "                                            keywords  \\\n",
       "0  [{\"id\": 1463, \"name\": \"culture clash\"}, {\"id\":...   \n",
       "1  [{\"id\": 270, \"name\": \"ocean\"}, {\"id\": 726, \"na...   \n",
       "2  [{\"id\": 470, \"name\": \"spy\"}, {\"id\": 818, \"name...   \n",
       "3  [{\"id\": 849, \"name\": \"dc comics\"}, {\"id\": 853,...   \n",
       "4  [{\"id\": 818, \"name\": \"based on novel\"}, {\"id\":...   \n",
       "\n",
       "                                                cast  \\\n",
       "0  [{\"cast_id\": 242, \"character\": \"Jake Sully\", \"...   \n",
       "1  [{\"cast_id\": 4, \"character\": \"Captain Jack Spa...   \n",
       "2  [{\"cast_id\": 1, \"character\": \"James Bond\", \"cr...   \n",
       "3  [{\"cast_id\": 2, \"character\": \"Bruce Wayne / Ba...   \n",
       "4  [{\"cast_id\": 5, \"character\": \"John Carter\", \"c...   \n",
       "\n",
       "                                                crew  \n",
       "0  [{\"credit_id\": \"52fe48009251416c750aca23\", \"de...  \n",
       "1  [{\"credit_id\": \"52fe4232c3a36847f800b579\", \"de...  \n",
       "2  [{\"credit_id\": \"54805967c3a36829b5002c41\", \"de...  \n",
       "3  [{\"credit_id\": \"52fe4781c3a36847f81398c3\", \"de...  \n",
       "4  [{\"credit_id\": \"52fe479ac3a36847f813eaa3\", \"de...  "
      ]
     },
     "execution_count": 10,
     "metadata": {},
     "output_type": "execute_result"
    }
   ],
   "source": [
    "movies['genres'] = movies['genres'].apply(convert)\n",
    "movies.head()"
   ]
  },
  {
   "cell_type": "code",
   "execution_count": 11,
   "id": "428e97cf",
   "metadata": {
    "execution": {
     "iopub.execute_input": "2023-04-17T05:09:13.773386Z",
     "iopub.status.busy": "2023-04-17T05:09:13.772992Z",
     "iopub.status.idle": "2023-04-17T05:09:14.190797Z",
     "shell.execute_reply": "2023-04-17T05:09:14.189648Z"
    },
    "papermill": {
     "duration": 0.432022,
     "end_time": "2023-04-17T05:09:14.194062",
     "exception": false,
     "start_time": "2023-04-17T05:09:13.762040",
     "status": "completed"
    },
    "tags": []
   },
   "outputs": [
    {
     "data": {
      "text/html": [
       "<div>\n",
       "<style scoped>\n",
       "    .dataframe tbody tr th:only-of-type {\n",
       "        vertical-align: middle;\n",
       "    }\n",
       "\n",
       "    .dataframe tbody tr th {\n",
       "        vertical-align: top;\n",
       "    }\n",
       "\n",
       "    .dataframe thead th {\n",
       "        text-align: right;\n",
       "    }\n",
       "</style>\n",
       "<table border=\"1\" class=\"dataframe\">\n",
       "  <thead>\n",
       "    <tr style=\"text-align: right;\">\n",
       "      <th></th>\n",
       "      <th>movie_id</th>\n",
       "      <th>title</th>\n",
       "      <th>overview</th>\n",
       "      <th>genres</th>\n",
       "      <th>keywords</th>\n",
       "      <th>cast</th>\n",
       "      <th>crew</th>\n",
       "    </tr>\n",
       "  </thead>\n",
       "  <tbody>\n",
       "    <tr>\n",
       "      <th>0</th>\n",
       "      <td>19995</td>\n",
       "      <td>Avatar</td>\n",
       "      <td>In the 22nd century, a paraplegic Marine is di...</td>\n",
       "      <td>[Action, Adventure, Fantasy, Science Fiction]</td>\n",
       "      <td>[culture clash, future, space war, space colon...</td>\n",
       "      <td>[{\"cast_id\": 242, \"character\": \"Jake Sully\", \"...</td>\n",
       "      <td>[{\"credit_id\": \"52fe48009251416c750aca23\", \"de...</td>\n",
       "    </tr>\n",
       "    <tr>\n",
       "      <th>1</th>\n",
       "      <td>285</td>\n",
       "      <td>Pirates of the Caribbean: At World's End</td>\n",
       "      <td>Captain Barbossa, long believed to be dead, ha...</td>\n",
       "      <td>[Adventure, Fantasy, Action]</td>\n",
       "      <td>[ocean, drug abuse, exotic island, east india ...</td>\n",
       "      <td>[{\"cast_id\": 4, \"character\": \"Captain Jack Spa...</td>\n",
       "      <td>[{\"credit_id\": \"52fe4232c3a36847f800b579\", \"de...</td>\n",
       "    </tr>\n",
       "    <tr>\n",
       "      <th>2</th>\n",
       "      <td>206647</td>\n",
       "      <td>Spectre</td>\n",
       "      <td>A cryptic message from Bond’s past sends him o...</td>\n",
       "      <td>[Action, Adventure, Crime]</td>\n",
       "      <td>[spy, based on novel, secret agent, sequel, mi...</td>\n",
       "      <td>[{\"cast_id\": 1, \"character\": \"James Bond\", \"cr...</td>\n",
       "      <td>[{\"credit_id\": \"54805967c3a36829b5002c41\", \"de...</td>\n",
       "    </tr>\n",
       "    <tr>\n",
       "      <th>3</th>\n",
       "      <td>49026</td>\n",
       "      <td>The Dark Knight Rises</td>\n",
       "      <td>Following the death of District Attorney Harve...</td>\n",
       "      <td>[Action, Crime, Drama, Thriller]</td>\n",
       "      <td>[dc comics, crime fighter, terrorist, secret i...</td>\n",
       "      <td>[{\"cast_id\": 2, \"character\": \"Bruce Wayne / Ba...</td>\n",
       "      <td>[{\"credit_id\": \"52fe4781c3a36847f81398c3\", \"de...</td>\n",
       "    </tr>\n",
       "    <tr>\n",
       "      <th>4</th>\n",
       "      <td>49529</td>\n",
       "      <td>John Carter</td>\n",
       "      <td>John Carter is a war-weary, former military ca...</td>\n",
       "      <td>[Action, Adventure, Science Fiction]</td>\n",
       "      <td>[based on novel, mars, medallion, space travel...</td>\n",
       "      <td>[{\"cast_id\": 5, \"character\": \"John Carter\", \"c...</td>\n",
       "      <td>[{\"credit_id\": \"52fe479ac3a36847f813eaa3\", \"de...</td>\n",
       "    </tr>\n",
       "  </tbody>\n",
       "</table>\n",
       "</div>"
      ],
      "text/plain": [
       "   movie_id                                     title  \\\n",
       "0     19995                                    Avatar   \n",
       "1       285  Pirates of the Caribbean: At World's End   \n",
       "2    206647                                   Spectre   \n",
       "3     49026                     The Dark Knight Rises   \n",
       "4     49529                               John Carter   \n",
       "\n",
       "                                            overview  \\\n",
       "0  In the 22nd century, a paraplegic Marine is di...   \n",
       "1  Captain Barbossa, long believed to be dead, ha...   \n",
       "2  A cryptic message from Bond’s past sends him o...   \n",
       "3  Following the death of District Attorney Harve...   \n",
       "4  John Carter is a war-weary, former military ca...   \n",
       "\n",
       "                                          genres  \\\n",
       "0  [Action, Adventure, Fantasy, Science Fiction]   \n",
       "1                   [Adventure, Fantasy, Action]   \n",
       "2                     [Action, Adventure, Crime]   \n",
       "3               [Action, Crime, Drama, Thriller]   \n",
       "4           [Action, Adventure, Science Fiction]   \n",
       "\n",
       "                                            keywords  \\\n",
       "0  [culture clash, future, space war, space colon...   \n",
       "1  [ocean, drug abuse, exotic island, east india ...   \n",
       "2  [spy, based on novel, secret agent, sequel, mi...   \n",
       "3  [dc comics, crime fighter, terrorist, secret i...   \n",
       "4  [based on novel, mars, medallion, space travel...   \n",
       "\n",
       "                                                cast  \\\n",
       "0  [{\"cast_id\": 242, \"character\": \"Jake Sully\", \"...   \n",
       "1  [{\"cast_id\": 4, \"character\": \"Captain Jack Spa...   \n",
       "2  [{\"cast_id\": 1, \"character\": \"James Bond\", \"cr...   \n",
       "3  [{\"cast_id\": 2, \"character\": \"Bruce Wayne / Ba...   \n",
       "4  [{\"cast_id\": 5, \"character\": \"John Carter\", \"c...   \n",
       "\n",
       "                                                crew  \n",
       "0  [{\"credit_id\": \"52fe48009251416c750aca23\", \"de...  \n",
       "1  [{\"credit_id\": \"52fe4232c3a36847f800b579\", \"de...  \n",
       "2  [{\"credit_id\": \"54805967c3a36829b5002c41\", \"de...  \n",
       "3  [{\"credit_id\": \"52fe4781c3a36847f81398c3\", \"de...  \n",
       "4  [{\"credit_id\": \"52fe479ac3a36847f813eaa3\", \"de...  "
      ]
     },
     "execution_count": 11,
     "metadata": {},
     "output_type": "execute_result"
    }
   ],
   "source": [
    "movies['keywords'] = movies['keywords'].apply(convert)\n",
    "movies.head()"
   ]
  },
  {
   "cell_type": "code",
   "execution_count": 12,
   "id": "5cdfe29e",
   "metadata": {
    "execution": {
     "iopub.execute_input": "2023-04-17T05:09:14.216112Z",
     "iopub.status.busy": "2023-04-17T05:09:14.215691Z",
     "iopub.status.idle": "2023-04-17T05:09:14.223421Z",
     "shell.execute_reply": "2023-04-17T05:09:14.222251Z"
    },
    "papermill": {
     "duration": 0.021237,
     "end_time": "2023-04-17T05:09:14.225765",
     "exception": false,
     "start_time": "2023-04-17T05:09:14.204528",
     "status": "completed"
    },
    "tags": []
   },
   "outputs": [
    {
     "data": {
      "text/plain": [
       "[{'id': 28, 'name': 'Action'},\n",
       " {'id': 12, 'name': 'Adventure'},\n",
       " {'id': 14, 'name': 'Fantasy'},\n",
       " {'id': 878, 'name': 'Science Fiction'}]"
      ]
     },
     "execution_count": 12,
     "metadata": {},
     "output_type": "execute_result"
    }
   ],
   "source": [
    "import ast\n",
    "ast.literal_eval('[{\"id\": 28, \"name\": \"Action\"}, {\"id\": 12, \"name\": \"Adventure\"}, {\"id\": 14, \"name\": \"Fantasy\"}, {\"id\": 878, \"name\": \"Science Fiction\"}]')"
   ]
  },
  {
   "cell_type": "code",
   "execution_count": 13,
   "id": "f973c153",
   "metadata": {
    "execution": {
     "iopub.execute_input": "2023-04-17T05:09:14.246933Z",
     "iopub.status.busy": "2023-04-17T05:09:14.246518Z",
     "iopub.status.idle": "2023-04-17T05:09:14.252103Z",
     "shell.execute_reply": "2023-04-17T05:09:14.251200Z"
    },
    "papermill": {
     "duration": 0.01868,
     "end_time": "2023-04-17T05:09:14.254154",
     "exception": false,
     "start_time": "2023-04-17T05:09:14.235474",
     "status": "completed"
    },
    "tags": []
   },
   "outputs": [],
   "source": [
    "def convert3(text):\n",
    "    L = []\n",
    "    counter = 0\n",
    "    for i in ast.literal_eval(text):\n",
    "        if counter < 3:\n",
    "            L.append(i['name'])\n",
    "        counter+=1\n",
    "    return L "
   ]
  },
  {
   "cell_type": "code",
   "execution_count": 14,
   "id": "95e1bc89",
   "metadata": {
    "execution": {
     "iopub.execute_input": "2023-04-17T05:09:14.275402Z",
     "iopub.status.busy": "2023-04-17T05:09:14.274973Z",
     "iopub.status.idle": "2023-04-17T05:09:17.605621Z",
     "shell.execute_reply": "2023-04-17T05:09:17.604481Z"
    },
    "papermill": {
     "duration": 3.344447,
     "end_time": "2023-04-17T05:09:17.608342",
     "exception": false,
     "start_time": "2023-04-17T05:09:14.263895",
     "status": "completed"
    },
    "tags": []
   },
   "outputs": [
    {
     "data": {
      "text/html": [
       "<div>\n",
       "<style scoped>\n",
       "    .dataframe tbody tr th:only-of-type {\n",
       "        vertical-align: middle;\n",
       "    }\n",
       "\n",
       "    .dataframe tbody tr th {\n",
       "        vertical-align: top;\n",
       "    }\n",
       "\n",
       "    .dataframe thead th {\n",
       "        text-align: right;\n",
       "    }\n",
       "</style>\n",
       "<table border=\"1\" class=\"dataframe\">\n",
       "  <thead>\n",
       "    <tr style=\"text-align: right;\">\n",
       "      <th></th>\n",
       "      <th>movie_id</th>\n",
       "      <th>title</th>\n",
       "      <th>overview</th>\n",
       "      <th>genres</th>\n",
       "      <th>keywords</th>\n",
       "      <th>cast</th>\n",
       "      <th>crew</th>\n",
       "    </tr>\n",
       "  </thead>\n",
       "  <tbody>\n",
       "    <tr>\n",
       "      <th>0</th>\n",
       "      <td>19995</td>\n",
       "      <td>Avatar</td>\n",
       "      <td>In the 22nd century, a paraplegic Marine is di...</td>\n",
       "      <td>[Action, Adventure, Fantasy, Science Fiction]</td>\n",
       "      <td>[culture clash, future, space war, space colon...</td>\n",
       "      <td>[Sam Worthington, Zoe Saldana, Sigourney Weave...</td>\n",
       "      <td>[{\"credit_id\": \"52fe48009251416c750aca23\", \"de...</td>\n",
       "    </tr>\n",
       "    <tr>\n",
       "      <th>1</th>\n",
       "      <td>285</td>\n",
       "      <td>Pirates of the Caribbean: At World's End</td>\n",
       "      <td>Captain Barbossa, long believed to be dead, ha...</td>\n",
       "      <td>[Adventure, Fantasy, Action]</td>\n",
       "      <td>[ocean, drug abuse, exotic island, east india ...</td>\n",
       "      <td>[Johnny Depp, Orlando Bloom, Keira Knightley, ...</td>\n",
       "      <td>[{\"credit_id\": \"52fe4232c3a36847f800b579\", \"de...</td>\n",
       "    </tr>\n",
       "    <tr>\n",
       "      <th>2</th>\n",
       "      <td>206647</td>\n",
       "      <td>Spectre</td>\n",
       "      <td>A cryptic message from Bond’s past sends him o...</td>\n",
       "      <td>[Action, Adventure, Crime]</td>\n",
       "      <td>[spy, based on novel, secret agent, sequel, mi...</td>\n",
       "      <td>[Daniel Craig, Christoph Waltz, Léa Seydoux, R...</td>\n",
       "      <td>[{\"credit_id\": \"54805967c3a36829b5002c41\", \"de...</td>\n",
       "    </tr>\n",
       "    <tr>\n",
       "      <th>3</th>\n",
       "      <td>49026</td>\n",
       "      <td>The Dark Knight Rises</td>\n",
       "      <td>Following the death of District Attorney Harve...</td>\n",
       "      <td>[Action, Crime, Drama, Thriller]</td>\n",
       "      <td>[dc comics, crime fighter, terrorist, secret i...</td>\n",
       "      <td>[Christian Bale, Michael Caine, Gary Oldman, A...</td>\n",
       "      <td>[{\"credit_id\": \"52fe4781c3a36847f81398c3\", \"de...</td>\n",
       "    </tr>\n",
       "    <tr>\n",
       "      <th>4</th>\n",
       "      <td>49529</td>\n",
       "      <td>John Carter</td>\n",
       "      <td>John Carter is a war-weary, former military ca...</td>\n",
       "      <td>[Action, Adventure, Science Fiction]</td>\n",
       "      <td>[based on novel, mars, medallion, space travel...</td>\n",
       "      <td>[Taylor Kitsch, Lynn Collins, Samantha Morton,...</td>\n",
       "      <td>[{\"credit_id\": \"52fe479ac3a36847f813eaa3\", \"de...</td>\n",
       "    </tr>\n",
       "  </tbody>\n",
       "</table>\n",
       "</div>"
      ],
      "text/plain": [
       "   movie_id                                     title  \\\n",
       "0     19995                                    Avatar   \n",
       "1       285  Pirates of the Caribbean: At World's End   \n",
       "2    206647                                   Spectre   \n",
       "3     49026                     The Dark Knight Rises   \n",
       "4     49529                               John Carter   \n",
       "\n",
       "                                            overview  \\\n",
       "0  In the 22nd century, a paraplegic Marine is di...   \n",
       "1  Captain Barbossa, long believed to be dead, ha...   \n",
       "2  A cryptic message from Bond’s past sends him o...   \n",
       "3  Following the death of District Attorney Harve...   \n",
       "4  John Carter is a war-weary, former military ca...   \n",
       "\n",
       "                                          genres  \\\n",
       "0  [Action, Adventure, Fantasy, Science Fiction]   \n",
       "1                   [Adventure, Fantasy, Action]   \n",
       "2                     [Action, Adventure, Crime]   \n",
       "3               [Action, Crime, Drama, Thriller]   \n",
       "4           [Action, Adventure, Science Fiction]   \n",
       "\n",
       "                                            keywords  \\\n",
       "0  [culture clash, future, space war, space colon...   \n",
       "1  [ocean, drug abuse, exotic island, east india ...   \n",
       "2  [spy, based on novel, secret agent, sequel, mi...   \n",
       "3  [dc comics, crime fighter, terrorist, secret i...   \n",
       "4  [based on novel, mars, medallion, space travel...   \n",
       "\n",
       "                                                cast  \\\n",
       "0  [Sam Worthington, Zoe Saldana, Sigourney Weave...   \n",
       "1  [Johnny Depp, Orlando Bloom, Keira Knightley, ...   \n",
       "2  [Daniel Craig, Christoph Waltz, Léa Seydoux, R...   \n",
       "3  [Christian Bale, Michael Caine, Gary Oldman, A...   \n",
       "4  [Taylor Kitsch, Lynn Collins, Samantha Morton,...   \n",
       "\n",
       "                                                crew  \n",
       "0  [{\"credit_id\": \"52fe48009251416c750aca23\", \"de...  \n",
       "1  [{\"credit_id\": \"52fe4232c3a36847f800b579\", \"de...  \n",
       "2  [{\"credit_id\": \"54805967c3a36829b5002c41\", \"de...  \n",
       "3  [{\"credit_id\": \"52fe4781c3a36847f81398c3\", \"de...  \n",
       "4  [{\"credit_id\": \"52fe479ac3a36847f813eaa3\", \"de...  "
      ]
     },
     "execution_count": 14,
     "metadata": {},
     "output_type": "execute_result"
    }
   ],
   "source": [
    "movies['cast'] = movies['cast'].apply(convert)\n",
    "movies.head()\n"
   ]
  },
  {
   "cell_type": "code",
   "execution_count": 15,
   "id": "1887e67a",
   "metadata": {
    "execution": {
     "iopub.execute_input": "2023-04-17T05:09:17.631464Z",
     "iopub.status.busy": "2023-04-17T05:09:17.631068Z",
     "iopub.status.idle": "2023-04-17T05:09:17.643611Z",
     "shell.execute_reply": "2023-04-17T05:09:17.642357Z"
    },
    "papermill": {
     "duration": 0.026878,
     "end_time": "2023-04-17T05:09:17.646169",
     "exception": false,
     "start_time": "2023-04-17T05:09:17.619291",
     "status": "completed"
    },
    "tags": []
   },
   "outputs": [],
   "source": [
    "movies['cast'] = movies['cast'].apply(lambda x:x[0:3])\n"
   ]
  },
  {
   "cell_type": "code",
   "execution_count": 16,
   "id": "6994a4a0",
   "metadata": {
    "execution": {
     "iopub.execute_input": "2023-04-17T05:09:17.668032Z",
     "iopub.status.busy": "2023-04-17T05:09:17.667623Z",
     "iopub.status.idle": "2023-04-17T05:09:17.673543Z",
     "shell.execute_reply": "2023-04-17T05:09:17.672306Z"
    },
    "papermill": {
     "duration": 0.019789,
     "end_time": "2023-04-17T05:09:17.675959",
     "exception": false,
     "start_time": "2023-04-17T05:09:17.656170",
     "status": "completed"
    },
    "tags": []
   },
   "outputs": [],
   "source": [
    "def fetch_director(text):\n",
    "    L = []\n",
    "    for i in ast.literal_eval(text):\n",
    "        if i['job'] == 'Director':\n",
    "            L.append(i['name'])\n",
    "    return L "
   ]
  },
  {
   "cell_type": "code",
   "execution_count": 17,
   "id": "1ac5752e",
   "metadata": {
    "execution": {
     "iopub.execute_input": "2023-04-17T05:09:17.697651Z",
     "iopub.status.busy": "2023-04-17T05:09:17.697265Z",
     "iopub.status.idle": "2023-04-17T05:09:21.402366Z",
     "shell.execute_reply": "2023-04-17T05:09:21.401033Z"
    },
    "papermill": {
     "duration": 3.719263,
     "end_time": "2023-04-17T05:09:21.405185",
     "exception": false,
     "start_time": "2023-04-17T05:09:17.685922",
     "status": "completed"
    },
    "tags": []
   },
   "outputs": [],
   "source": [
    "movies['crew'] = movies['crew'].apply(fetch_director)\n",
    "\n"
   ]
  },
  {
   "cell_type": "code",
   "execution_count": 18,
   "id": "48062f9e",
   "metadata": {
    "execution": {
     "iopub.execute_input": "2023-04-17T05:09:21.427268Z",
     "iopub.status.busy": "2023-04-17T05:09:21.426825Z",
     "iopub.status.idle": "2023-04-17T05:09:21.450258Z",
     "shell.execute_reply": "2023-04-17T05:09:21.449016Z"
    },
    "papermill": {
     "duration": 0.037269,
     "end_time": "2023-04-17T05:09:21.452649",
     "exception": false,
     "start_time": "2023-04-17T05:09:21.415380",
     "status": "completed"
    },
    "tags": []
   },
   "outputs": [
    {
     "data": {
      "text/html": [
       "<div>\n",
       "<style scoped>\n",
       "    .dataframe tbody tr th:only-of-type {\n",
       "        vertical-align: middle;\n",
       "    }\n",
       "\n",
       "    .dataframe tbody tr th {\n",
       "        vertical-align: top;\n",
       "    }\n",
       "\n",
       "    .dataframe thead th {\n",
       "        text-align: right;\n",
       "    }\n",
       "</style>\n",
       "<table border=\"1\" class=\"dataframe\">\n",
       "  <thead>\n",
       "    <tr style=\"text-align: right;\">\n",
       "      <th></th>\n",
       "      <th>movie_id</th>\n",
       "      <th>title</th>\n",
       "      <th>overview</th>\n",
       "      <th>genres</th>\n",
       "      <th>keywords</th>\n",
       "      <th>cast</th>\n",
       "      <th>crew</th>\n",
       "    </tr>\n",
       "  </thead>\n",
       "  <tbody>\n",
       "    <tr>\n",
       "      <th>2864</th>\n",
       "      <td>11027</td>\n",
       "      <td>The Postman Always Rings Twice</td>\n",
       "      <td>This remake of the 1946 movie of the same name...</td>\n",
       "      <td>[Romance, Crime, Drama]</td>\n",
       "      <td>[sex, adultery, confession, based on novel, ob...</td>\n",
       "      <td>[Jack Nicholson, Jessica Lange, John Colicos]</td>\n",
       "      <td>[Bob Rafelson]</td>\n",
       "    </tr>\n",
       "    <tr>\n",
       "      <th>1142</th>\n",
       "      <td>46528</td>\n",
       "      <td>The Warrior's Way</td>\n",
       "      <td>An Asian assassin (Dong-gun Jang) is forced to...</td>\n",
       "      <td>[Adventure, Fantasy, Action, Western, Thriller]</td>\n",
       "      <td>[assassin, small town, forest, revenge, decept...</td>\n",
       "      <td>[Kate Bosworth, Jang Dong-gun, Geoffrey Rush]</td>\n",
       "      <td>[Sngmoo Lee]</td>\n",
       "    </tr>\n",
       "    <tr>\n",
       "      <th>2762</th>\n",
       "      <td>10691</td>\n",
       "      <td>Crazy/Beautiful</td>\n",
       "      <td>At Pacific Palisades High, a poor Latino falls...</td>\n",
       "      <td>[Drama, Romance]</td>\n",
       "      <td>[lovesickness, jealousy, parents kids relation...</td>\n",
       "      <td>[Kirsten Dunst, Jay Hernandez, Bruce Davison]</td>\n",
       "      <td>[John Stockwell]</td>\n",
       "    </tr>\n",
       "    <tr>\n",
       "      <th>2633</th>\n",
       "      <td>1018</td>\n",
       "      <td>Mulholland Drive</td>\n",
       "      <td>After a car wreck on the winding Mulholland Dr...</td>\n",
       "      <td>[Thriller, Drama, Mystery]</td>\n",
       "      <td>[schizophrenia, identity, amnesia, loss of sen...</td>\n",
       "      <td>[Naomi Watts, Laura Harring, Ann Miller]</td>\n",
       "      <td>[David Lynch]</td>\n",
       "    </tr>\n",
       "    <tr>\n",
       "      <th>4048</th>\n",
       "      <td>11798</td>\n",
       "      <td>This Is England</td>\n",
       "      <td>A story about a troubled boy growing up in Eng...</td>\n",
       "      <td>[Drama, Crime]</td>\n",
       "      <td>[holiday, skinhead, england, vandalism, indepe...</td>\n",
       "      <td>[Thomas Turgoose, Stephen Graham, Jo Hartley]</td>\n",
       "      <td>[Shane Meadows]</td>\n",
       "    </tr>\n",
       "  </tbody>\n",
       "</table>\n",
       "</div>"
      ],
      "text/plain": [
       "      movie_id                           title  \\\n",
       "2864     11027  The Postman Always Rings Twice   \n",
       "1142     46528               The Warrior's Way   \n",
       "2762     10691                 Crazy/Beautiful   \n",
       "2633      1018                Mulholland Drive   \n",
       "4048     11798                 This Is England   \n",
       "\n",
       "                                               overview  \\\n",
       "2864  This remake of the 1946 movie of the same name...   \n",
       "1142  An Asian assassin (Dong-gun Jang) is forced to...   \n",
       "2762  At Pacific Palisades High, a poor Latino falls...   \n",
       "2633  After a car wreck on the winding Mulholland Dr...   \n",
       "4048  A story about a troubled boy growing up in Eng...   \n",
       "\n",
       "                                               genres  \\\n",
       "2864                          [Romance, Crime, Drama]   \n",
       "1142  [Adventure, Fantasy, Action, Western, Thriller]   \n",
       "2762                                 [Drama, Romance]   \n",
       "2633                       [Thriller, Drama, Mystery]   \n",
       "4048                                   [Drama, Crime]   \n",
       "\n",
       "                                               keywords  \\\n",
       "2864  [sex, adultery, confession, based on novel, ob...   \n",
       "1142  [assassin, small town, forest, revenge, decept...   \n",
       "2762  [lovesickness, jealousy, parents kids relation...   \n",
       "2633  [schizophrenia, identity, amnesia, loss of sen...   \n",
       "4048  [holiday, skinhead, england, vandalism, indepe...   \n",
       "\n",
       "                                               cast              crew  \n",
       "2864  [Jack Nicholson, Jessica Lange, John Colicos]    [Bob Rafelson]  \n",
       "1142  [Kate Bosworth, Jang Dong-gun, Geoffrey Rush]      [Sngmoo Lee]  \n",
       "2762  [Kirsten Dunst, Jay Hernandez, Bruce Davison]  [John Stockwell]  \n",
       "2633       [Naomi Watts, Laura Harring, Ann Miller]     [David Lynch]  \n",
       "4048  [Thomas Turgoose, Stephen Graham, Jo Hartley]   [Shane Meadows]  "
      ]
     },
     "execution_count": 18,
     "metadata": {},
     "output_type": "execute_result"
    }
   ],
   "source": [
    "#movies['overview'] = movies['overview'].apply(lambda x:x.split())\n",
    "movies.sample(5)\n"
   ]
  },
  {
   "cell_type": "code",
   "execution_count": 19,
   "id": "0dca7c8b",
   "metadata": {
    "execution": {
     "iopub.execute_input": "2023-04-17T05:09:21.475149Z",
     "iopub.status.busy": "2023-04-17T05:09:21.474733Z",
     "iopub.status.idle": "2023-04-17T05:09:21.480732Z",
     "shell.execute_reply": "2023-04-17T05:09:21.479422Z"
    },
    "papermill": {
     "duration": 0.020175,
     "end_time": "2023-04-17T05:09:21.483277",
     "exception": false,
     "start_time": "2023-04-17T05:09:21.463102",
     "status": "completed"
    },
    "tags": []
   },
   "outputs": [],
   "source": [
    "def collapse(L):\n",
    "    L1 = []\n",
    "    for i in L:\n",
    "        L1.append(i.replace(\" \",\"\"))\n",
    "    return L1\n"
   ]
  },
  {
   "cell_type": "code",
   "execution_count": 20,
   "id": "09e3569a",
   "metadata": {
    "execution": {
     "iopub.execute_input": "2023-04-17T05:09:21.505866Z",
     "iopub.status.busy": "2023-04-17T05:09:21.505113Z",
     "iopub.status.idle": "2023-04-17T05:09:21.547501Z",
     "shell.execute_reply": "2023-04-17T05:09:21.546281Z"
    },
    "papermill": {
     "duration": 0.056326,
     "end_time": "2023-04-17T05:09:21.549875",
     "exception": false,
     "start_time": "2023-04-17T05:09:21.493549",
     "status": "completed"
    },
    "tags": []
   },
   "outputs": [],
   "source": [
    "movies['cast'] = movies['cast'].apply(collapse)\n",
    "movies['crew'] = movies['crew'].apply(collapse)\n",
    "movies['genres'] = movies['genres'].apply(collapse)\n",
    "movies['keywords'] = movies['keywords'].apply(collapse)\n"
   ]
  },
  {
   "cell_type": "code",
   "execution_count": 21,
   "id": "bb657e94",
   "metadata": {
    "execution": {
     "iopub.execute_input": "2023-04-17T05:09:21.572115Z",
     "iopub.status.busy": "2023-04-17T05:09:21.571669Z",
     "iopub.status.idle": "2023-04-17T05:09:21.592322Z",
     "shell.execute_reply": "2023-04-17T05:09:21.591023Z"
    },
    "papermill": {
     "duration": 0.034756,
     "end_time": "2023-04-17T05:09:21.594835",
     "exception": false,
     "start_time": "2023-04-17T05:09:21.560079",
     "status": "completed"
    },
    "tags": []
   },
   "outputs": [
    {
     "data": {
      "text/html": [
       "<div>\n",
       "<style scoped>\n",
       "    .dataframe tbody tr th:only-of-type {\n",
       "        vertical-align: middle;\n",
       "    }\n",
       "\n",
       "    .dataframe tbody tr th {\n",
       "        vertical-align: top;\n",
       "    }\n",
       "\n",
       "    .dataframe thead th {\n",
       "        text-align: right;\n",
       "    }\n",
       "</style>\n",
       "<table border=\"1\" class=\"dataframe\">\n",
       "  <thead>\n",
       "    <tr style=\"text-align: right;\">\n",
       "      <th></th>\n",
       "      <th>movie_id</th>\n",
       "      <th>title</th>\n",
       "      <th>overview</th>\n",
       "      <th>genres</th>\n",
       "      <th>keywords</th>\n",
       "      <th>cast</th>\n",
       "      <th>crew</th>\n",
       "    </tr>\n",
       "  </thead>\n",
       "  <tbody>\n",
       "    <tr>\n",
       "      <th>0</th>\n",
       "      <td>19995</td>\n",
       "      <td>Avatar</td>\n",
       "      <td>In the 22nd century, a paraplegic Marine is di...</td>\n",
       "      <td>[Action, Adventure, Fantasy, ScienceFiction]</td>\n",
       "      <td>[cultureclash, future, spacewar, spacecolony, ...</td>\n",
       "      <td>[SamWorthington, ZoeSaldana, SigourneyWeaver]</td>\n",
       "      <td>[JamesCameron]</td>\n",
       "    </tr>\n",
       "    <tr>\n",
       "      <th>1</th>\n",
       "      <td>285</td>\n",
       "      <td>Pirates of the Caribbean: At World's End</td>\n",
       "      <td>Captain Barbossa, long believed to be dead, ha...</td>\n",
       "      <td>[Adventure, Fantasy, Action]</td>\n",
       "      <td>[ocean, drugabuse, exoticisland, eastindiatrad...</td>\n",
       "      <td>[JohnnyDepp, OrlandoBloom, KeiraKnightley]</td>\n",
       "      <td>[GoreVerbinski]</td>\n",
       "    </tr>\n",
       "    <tr>\n",
       "      <th>2</th>\n",
       "      <td>206647</td>\n",
       "      <td>Spectre</td>\n",
       "      <td>A cryptic message from Bond’s past sends him o...</td>\n",
       "      <td>[Action, Adventure, Crime]</td>\n",
       "      <td>[spy, basedonnovel, secretagent, sequel, mi6, ...</td>\n",
       "      <td>[DanielCraig, ChristophWaltz, LéaSeydoux]</td>\n",
       "      <td>[SamMendes]</td>\n",
       "    </tr>\n",
       "    <tr>\n",
       "      <th>3</th>\n",
       "      <td>49026</td>\n",
       "      <td>The Dark Knight Rises</td>\n",
       "      <td>Following the death of District Attorney Harve...</td>\n",
       "      <td>[Action, Crime, Drama, Thriller]</td>\n",
       "      <td>[dccomics, crimefighter, terrorist, secretiden...</td>\n",
       "      <td>[ChristianBale, MichaelCaine, GaryOldman]</td>\n",
       "      <td>[ChristopherNolan]</td>\n",
       "    </tr>\n",
       "    <tr>\n",
       "      <th>4</th>\n",
       "      <td>49529</td>\n",
       "      <td>John Carter</td>\n",
       "      <td>John Carter is a war-weary, former military ca...</td>\n",
       "      <td>[Action, Adventure, ScienceFiction]</td>\n",
       "      <td>[basedonnovel, mars, medallion, spacetravel, p...</td>\n",
       "      <td>[TaylorKitsch, LynnCollins, SamanthaMorton]</td>\n",
       "      <td>[AndrewStanton]</td>\n",
       "    </tr>\n",
       "  </tbody>\n",
       "</table>\n",
       "</div>"
      ],
      "text/plain": [
       "   movie_id                                     title  \\\n",
       "0     19995                                    Avatar   \n",
       "1       285  Pirates of the Caribbean: At World's End   \n",
       "2    206647                                   Spectre   \n",
       "3     49026                     The Dark Knight Rises   \n",
       "4     49529                               John Carter   \n",
       "\n",
       "                                            overview  \\\n",
       "0  In the 22nd century, a paraplegic Marine is di...   \n",
       "1  Captain Barbossa, long believed to be dead, ha...   \n",
       "2  A cryptic message from Bond’s past sends him o...   \n",
       "3  Following the death of District Attorney Harve...   \n",
       "4  John Carter is a war-weary, former military ca...   \n",
       "\n",
       "                                         genres  \\\n",
       "0  [Action, Adventure, Fantasy, ScienceFiction]   \n",
       "1                  [Adventure, Fantasy, Action]   \n",
       "2                    [Action, Adventure, Crime]   \n",
       "3              [Action, Crime, Drama, Thriller]   \n",
       "4           [Action, Adventure, ScienceFiction]   \n",
       "\n",
       "                                            keywords  \\\n",
       "0  [cultureclash, future, spacewar, spacecolony, ...   \n",
       "1  [ocean, drugabuse, exoticisland, eastindiatrad...   \n",
       "2  [spy, basedonnovel, secretagent, sequel, mi6, ...   \n",
       "3  [dccomics, crimefighter, terrorist, secretiden...   \n",
       "4  [basedonnovel, mars, medallion, spacetravel, p...   \n",
       "\n",
       "                                            cast                crew  \n",
       "0  [SamWorthington, ZoeSaldana, SigourneyWeaver]      [JamesCameron]  \n",
       "1     [JohnnyDepp, OrlandoBloom, KeiraKnightley]     [GoreVerbinski]  \n",
       "2      [DanielCraig, ChristophWaltz, LéaSeydoux]         [SamMendes]  \n",
       "3      [ChristianBale, MichaelCaine, GaryOldman]  [ChristopherNolan]  \n",
       "4    [TaylorKitsch, LynnCollins, SamanthaMorton]     [AndrewStanton]  "
      ]
     },
     "execution_count": 21,
     "metadata": {},
     "output_type": "execute_result"
    }
   ],
   "source": [
    "movies.head()\n"
   ]
  },
  {
   "cell_type": "code",
   "execution_count": 22,
   "id": "3af76019",
   "metadata": {
    "execution": {
     "iopub.execute_input": "2023-04-17T05:09:21.618092Z",
     "iopub.status.busy": "2023-04-17T05:09:21.617659Z",
     "iopub.status.idle": "2023-04-17T05:09:21.657539Z",
     "shell.execute_reply": "2023-04-17T05:09:21.656559Z"
    },
    "papermill": {
     "duration": 0.054202,
     "end_time": "2023-04-17T05:09:21.659792",
     "exception": false,
     "start_time": "2023-04-17T05:09:21.605590",
     "status": "completed"
    },
    "tags": []
   },
   "outputs": [],
   "source": [
    "movies['overview'] = movies['overview'].apply(lambda x:x.split())"
   ]
  },
  {
   "cell_type": "code",
   "execution_count": 23,
   "id": "fa2fb093",
   "metadata": {
    "execution": {
     "iopub.execute_input": "2023-04-17T05:09:21.683329Z",
     "iopub.status.busy": "2023-04-17T05:09:21.682886Z",
     "iopub.status.idle": "2023-04-17T05:09:21.755406Z",
     "shell.execute_reply": "2023-04-17T05:09:21.754107Z"
    },
    "papermill": {
     "duration": 0.087868,
     "end_time": "2023-04-17T05:09:21.758339",
     "exception": false,
     "start_time": "2023-04-17T05:09:21.670471",
     "status": "completed"
    },
    "tags": []
   },
   "outputs": [],
   "source": [
    "movies['tags'] = movies['overview'] + movies['genres'] + movies['keywords'] + movies['cast'] + movies['crew']\n"
   ]
  },
  {
   "cell_type": "code",
   "execution_count": 24,
   "id": "0f72b9d8",
   "metadata": {
    "execution": {
     "iopub.execute_input": "2023-04-17T05:09:21.781543Z",
     "iopub.status.busy": "2023-04-17T05:09:21.781138Z",
     "iopub.status.idle": "2023-04-17T05:09:21.788489Z",
     "shell.execute_reply": "2023-04-17T05:09:21.787489Z"
    },
    "papermill": {
     "duration": 0.021873,
     "end_time": "2023-04-17T05:09:21.790894",
     "exception": false,
     "start_time": "2023-04-17T05:09:21.769021",
     "status": "completed"
    },
    "tags": []
   },
   "outputs": [],
   "source": [
    "new = movies.drop(columns=['overview','genres','keywords','cast','crew'])\n",
    "#new.head()"
   ]
  },
  {
   "cell_type": "code",
   "execution_count": 25,
   "id": "0d280f58",
   "metadata": {
    "execution": {
     "iopub.execute_input": "2023-04-17T05:09:21.813808Z",
     "iopub.status.busy": "2023-04-17T05:09:21.813406Z",
     "iopub.status.idle": "2023-04-17T05:09:21.838816Z",
     "shell.execute_reply": "2023-04-17T05:09:21.837587Z"
    },
    "papermill": {
     "duration": 0.039914,
     "end_time": "2023-04-17T05:09:21.841371",
     "exception": false,
     "start_time": "2023-04-17T05:09:21.801457",
     "status": "completed"
    },
    "tags": []
   },
   "outputs": [
    {
     "data": {
      "text/html": [
       "<div>\n",
       "<style scoped>\n",
       "    .dataframe tbody tr th:only-of-type {\n",
       "        vertical-align: middle;\n",
       "    }\n",
       "\n",
       "    .dataframe tbody tr th {\n",
       "        vertical-align: top;\n",
       "    }\n",
       "\n",
       "    .dataframe thead th {\n",
       "        text-align: right;\n",
       "    }\n",
       "</style>\n",
       "<table border=\"1\" class=\"dataframe\">\n",
       "  <thead>\n",
       "    <tr style=\"text-align: right;\">\n",
       "      <th></th>\n",
       "      <th>movie_id</th>\n",
       "      <th>title</th>\n",
       "      <th>tags</th>\n",
       "    </tr>\n",
       "  </thead>\n",
       "  <tbody>\n",
       "    <tr>\n",
       "      <th>0</th>\n",
       "      <td>19995</td>\n",
       "      <td>Avatar</td>\n",
       "      <td>In the 22nd century, a paraplegic Marine is di...</td>\n",
       "    </tr>\n",
       "    <tr>\n",
       "      <th>1</th>\n",
       "      <td>285</td>\n",
       "      <td>Pirates of the Caribbean: At World's End</td>\n",
       "      <td>Captain Barbossa, long believed to be dead, ha...</td>\n",
       "    </tr>\n",
       "    <tr>\n",
       "      <th>2</th>\n",
       "      <td>206647</td>\n",
       "      <td>Spectre</td>\n",
       "      <td>A cryptic message from Bond’s past sends him o...</td>\n",
       "    </tr>\n",
       "    <tr>\n",
       "      <th>3</th>\n",
       "      <td>49026</td>\n",
       "      <td>The Dark Knight Rises</td>\n",
       "      <td>Following the death of District Attorney Harve...</td>\n",
       "    </tr>\n",
       "    <tr>\n",
       "      <th>4</th>\n",
       "      <td>49529</td>\n",
       "      <td>John Carter</td>\n",
       "      <td>John Carter is a war-weary, former military ca...</td>\n",
       "    </tr>\n",
       "  </tbody>\n",
       "</table>\n",
       "</div>"
      ],
      "text/plain": [
       "   movie_id                                     title  \\\n",
       "0     19995                                    Avatar   \n",
       "1       285  Pirates of the Caribbean: At World's End   \n",
       "2    206647                                   Spectre   \n",
       "3     49026                     The Dark Knight Rises   \n",
       "4     49529                               John Carter   \n",
       "\n",
       "                                                tags  \n",
       "0  In the 22nd century, a paraplegic Marine is di...  \n",
       "1  Captain Barbossa, long believed to be dead, ha...  \n",
       "2  A cryptic message from Bond’s past sends him o...  \n",
       "3  Following the death of District Attorney Harve...  \n",
       "4  John Carter is a war-weary, former military ca...  "
      ]
     },
     "execution_count": 25,
     "metadata": {},
     "output_type": "execute_result"
    }
   ],
   "source": [
    "new['tags'] = new['tags'].apply(lambda x: \" \".join(x))\n",
    "new.head()"
   ]
  },
  {
   "cell_type": "code",
   "execution_count": 26,
   "id": "10039e8f",
   "metadata": {
    "execution": {
     "iopub.execute_input": "2023-04-17T05:09:21.865256Z",
     "iopub.status.busy": "2023-04-17T05:09:21.864846Z",
     "iopub.status.idle": "2023-04-17T05:09:23.063415Z",
     "shell.execute_reply": "2023-04-17T05:09:23.062055Z"
    },
    "papermill": {
     "duration": 1.213926,
     "end_time": "2023-04-17T05:09:23.066415",
     "exception": false,
     "start_time": "2023-04-17T05:09:21.852489",
     "status": "completed"
    },
    "tags": []
   },
   "outputs": [],
   "source": [
    "from sklearn.feature_extraction.text import CountVectorizer\n",
    "cv = CountVectorizer(max_features=5000,stop_words='english')"
   ]
  },
  {
   "cell_type": "code",
   "execution_count": 27,
   "id": "7e4c6f58",
   "metadata": {
    "execution": {
     "iopub.execute_input": "2023-04-17T05:09:23.091450Z",
     "iopub.status.busy": "2023-04-17T05:09:23.090376Z",
     "iopub.status.idle": "2023-04-17T05:09:23.635151Z",
     "shell.execute_reply": "2023-04-17T05:09:23.633999Z"
    },
    "papermill": {
     "duration": 0.559643,
     "end_time": "2023-04-17T05:09:23.637988",
     "exception": false,
     "start_time": "2023-04-17T05:09:23.078345",
     "status": "completed"
    },
    "tags": []
   },
   "outputs": [],
   "source": [
    "vector = cv.fit_transform(new['tags']).toarray()"
   ]
  },
  {
   "cell_type": "code",
   "execution_count": 28,
   "id": "6f8a8bd0",
   "metadata": {
    "execution": {
     "iopub.execute_input": "2023-04-17T05:09:23.662171Z",
     "iopub.status.busy": "2023-04-17T05:09:23.660806Z",
     "iopub.status.idle": "2023-04-17T05:09:23.728622Z",
     "shell.execute_reply": "2023-04-17T05:09:23.727226Z"
    },
    "papermill": {
     "duration": 0.082859,
     "end_time": "2023-04-17T05:09:23.731560",
     "exception": false,
     "start_time": "2023-04-17T05:09:23.648701",
     "status": "completed"
    },
    "tags": []
   },
   "outputs": [],
   "source": [
    "from sklearn.metrics.pairwise import cosine_similarity"
   ]
  },
  {
   "cell_type": "code",
   "execution_count": 29,
   "id": "37e2d6a3",
   "metadata": {
    "execution": {
     "iopub.execute_input": "2023-04-17T05:09:23.755377Z",
     "iopub.status.busy": "2023-04-17T05:09:23.754980Z",
     "iopub.status.idle": "2023-04-17T05:09:25.986623Z",
     "shell.execute_reply": "2023-04-17T05:09:25.984805Z"
    },
    "papermill": {
     "duration": 2.248863,
     "end_time": "2023-04-17T05:09:25.991484",
     "exception": false,
     "start_time": "2023-04-17T05:09:23.742621",
     "status": "completed"
    },
    "tags": []
   },
   "outputs": [],
   "source": [
    "similarity = cosine_similarity(vector)"
   ]
  },
  {
   "cell_type": "code",
   "execution_count": 30,
   "id": "48cd990c",
   "metadata": {
    "execution": {
     "iopub.execute_input": "2023-04-17T05:09:26.014951Z",
     "iopub.status.busy": "2023-04-17T05:09:26.014525Z",
     "iopub.status.idle": "2023-04-17T05:09:26.023100Z",
     "shell.execute_reply": "2023-04-17T05:09:26.021990Z"
    },
    "papermill": {
     "duration": 0.023082,
     "end_time": "2023-04-17T05:09:26.025420",
     "exception": false,
     "start_time": "2023-04-17T05:09:26.002338",
     "status": "completed"
    },
    "tags": []
   },
   "outputs": [
    {
     "data": {
      "text/plain": [
       "744"
      ]
     },
     "execution_count": 30,
     "metadata": {},
     "output_type": "execute_result"
    }
   ],
   "source": [
    "new[new['title'] == 'The Lego Movie'].index[0]"
   ]
  },
  {
   "cell_type": "code",
   "execution_count": 31,
   "id": "8ad409c3",
   "metadata": {
    "execution": {
     "iopub.execute_input": "2023-04-17T05:09:26.049634Z",
     "iopub.status.busy": "2023-04-17T05:09:26.049185Z",
     "iopub.status.idle": "2023-04-17T05:09:26.057293Z",
     "shell.execute_reply": "2023-04-17T05:09:26.056092Z"
    },
    "papermill": {
     "duration": 0.023406,
     "end_time": "2023-04-17T05:09:26.059823",
     "exception": false,
     "start_time": "2023-04-17T05:09:26.036417",
     "status": "completed"
    },
    "tags": []
   },
   "outputs": [
    {
     "data": {
      "text/plain": [
       "array([[1.        , 0.08964215, 0.06071767, ..., 0.02519763, 0.0277885 ,\n",
       "        0.        ],\n",
       "       [0.08964215, 1.        , 0.06350006, ..., 0.02635231, 0.        ,\n",
       "        0.        ],\n",
       "       [0.06071767, 0.06350006, 1.        , ..., 0.02677398, 0.        ,\n",
       "        0.        ],\n",
       "       ...,\n",
       "       [0.02519763, 0.02635231, 0.02677398, ..., 1.        , 0.07352146,\n",
       "        0.04774099],\n",
       "       [0.0277885 , 0.        , 0.        , ..., 0.07352146, 1.        ,\n",
       "        0.05264981],\n",
       "       [0.        , 0.        , 0.        , ..., 0.04774099, 0.05264981,\n",
       "        1.        ]])"
      ]
     },
     "execution_count": 31,
     "metadata": {},
     "output_type": "execute_result"
    }
   ],
   "source": [
    "similarity"
   ]
  },
  {
   "cell_type": "code",
   "execution_count": 32,
   "id": "bd6fd5a5",
   "metadata": {
    "execution": {
     "iopub.execute_input": "2023-04-17T05:09:26.084693Z",
     "iopub.status.busy": "2023-04-17T05:09:26.083837Z",
     "iopub.status.idle": "2023-04-17T05:09:26.090353Z",
     "shell.execute_reply": "2023-04-17T05:09:26.089128Z"
    },
    "papermill": {
     "duration": 0.021969,
     "end_time": "2023-04-17T05:09:26.093040",
     "exception": false,
     "start_time": "2023-04-17T05:09:26.071071",
     "status": "completed"
    },
    "tags": []
   },
   "outputs": [],
   "source": [
    "def recommend(movie):\n",
    "    index = new[new['title'] == movie].index[0]\n",
    "    distances = sorted(list(enumerate(similarity[index])),reverse=True,key = lambda x: x[1])\n",
    "    for i in distances[1:6]:\n",
    "        print(new.iloc[i[0]].title)"
   ]
  },
  {
   "cell_type": "code",
   "execution_count": 33,
   "id": "db5eed0a",
   "metadata": {
    "execution": {
     "iopub.execute_input": "2023-04-17T05:09:26.117215Z",
     "iopub.status.busy": "2023-04-17T05:09:26.116778Z",
     "iopub.status.idle": "2023-04-17T05:09:26.128737Z",
     "shell.execute_reply": "2023-04-17T05:09:26.127505Z"
    },
    "papermill": {
     "duration": 0.027339,
     "end_time": "2023-04-17T05:09:26.131610",
     "exception": false,
     "start_time": "2023-04-17T05:09:26.104271",
     "status": "completed"
    },
    "tags": []
   },
   "outputs": [
    {
     "name": "stdout",
     "output_type": "stream",
     "text": [
      "Gandhi, My Father\n",
      "The Wind That Shakes the Barley\n",
      "A Passage to India\n",
      "Guiana 1838\n",
      "Ramanujan\n"
     ]
    }
   ],
   "source": [
    "recommend('Gandhi')"
   ]
  },
  {
   "cell_type": "code",
   "execution_count": 34,
   "id": "7774d4ce",
   "metadata": {
    "execution": {
     "iopub.execute_input": "2023-04-17T05:09:26.155676Z",
     "iopub.status.busy": "2023-04-17T05:09:26.155277Z",
     "iopub.status.idle": "2023-04-17T05:09:26.160286Z",
     "shell.execute_reply": "2023-04-17T05:09:26.159087Z"
    },
    "papermill": {
     "duration": 0.019932,
     "end_time": "2023-04-17T05:09:26.162605",
     "exception": false,
     "start_time": "2023-04-17T05:09:26.142673",
     "status": "completed"
    },
    "tags": []
   },
   "outputs": [],
   "source": [
    "import pickle"
   ]
  },
  {
   "cell_type": "code",
   "execution_count": 35,
   "id": "dc78e476",
   "metadata": {
    "execution": {
     "iopub.execute_input": "2023-04-17T05:09:26.186851Z",
     "iopub.status.busy": "2023-04-17T05:09:26.186463Z",
     "iopub.status.idle": "2023-04-17T05:09:26.530248Z",
     "shell.execute_reply": "2023-04-17T05:09:26.529141Z"
    },
    "papermill": {
     "duration": 0.359676,
     "end_time": "2023-04-17T05:09:26.533381",
     "exception": false,
     "start_time": "2023-04-17T05:09:26.173705",
     "status": "completed"
    },
    "tags": []
   },
   "outputs": [],
   "source": [
    "pickle.dump(new,open('movie_list.pkl','wb'))\n",
    "pickle.dump(similarity,open('similarity.pkl','wb'))"
   ]
  },
  {
   "cell_type": "code",
   "execution_count": null,
   "id": "cb3c39e9",
   "metadata": {
    "papermill": {
     "duration": 0.010628,
     "end_time": "2023-04-17T05:09:26.555420",
     "exception": false,
     "start_time": "2023-04-17T05:09:26.544792",
     "status": "completed"
    },
    "tags": []
   },
   "outputs": [],
   "source": []
  }
 ],
 "metadata": {
  "kernelspec": {
   "display_name": "Python 3",
   "language": "python",
   "name": "python3"
  },
  "language_info": {
   "codemirror_mode": {
    "name": "ipython",
    "version": 3
   },
   "file_extension": ".py",
   "mimetype": "text/x-python",
   "name": "python",
   "nbconvert_exporter": "python",
   "pygments_lexer": "ipython3",
   "version": "3.7.12"
  },
  "papermill": {
   "default_parameters": {},
   "duration": 25.550028,
   "end_time": "2023-04-17T05:09:27.388923",
   "environment_variables": {},
   "exception": null,
   "input_path": "__notebook__.ipynb",
   "output_path": "__notebook__.ipynb",
   "parameters": {},
   "start_time": "2023-04-17T05:09:01.838895",
   "version": "2.4.0"
  }
 },
 "nbformat": 4,
 "nbformat_minor": 5
}
